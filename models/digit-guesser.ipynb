{
 "cells": [
  {
   "cell_type": "code",
   "execution_count": 1,
   "id": "bc6e74dc",
   "metadata": {},
   "outputs": [],
   "source": [
    "import tensorflow as tf\n",
    "import keras\n",
    "from tensorflow.keras.preprocessing import image\n",
    "import numpy as np\n",
    "from tensorflow.keras.callbacks import TensorBoard\n",
    "\n",
    "data=tf.keras.datasets.mnist.load_data(\n",
    "    path='mnist.npz'\n",
    ")\n"
   ]
  },
  {
   "cell_type": "code",
   "execution_count": 2,
   "id": "9e98126c",
   "metadata": {},
   "outputs": [],
   "source": [
    "\n",
    "(X_train, y_train), (X_test, y_test) = data"
   ]
  },
  {
   "cell_type": "code",
   "execution_count": 3,
   "id": "e4d9f820",
   "metadata": {},
   "outputs": [
    {
     "name": "stdout",
     "output_type": "stream",
     "text": [
      "X_train.shape: (60000, 28, 28)\n",
      "y_train.shape: (60000,)\n",
      "X_test.shape: (10000, 28, 28)\n",
      "y_test.shape: (10000,)\n"
     ]
    }
   ],
   "source": [
    "print (\"X_train.shape: {}\".format(X_train.shape)) \n",
    "print (\"y_train.shape: {}\".format(y_train.shape)) \n",
    "print (\"X_test.shape: {}\".format(X_test.shape)) \n",
    "print (\"y_test.shape: {}\".format(y_test.shape)) "
   ]
  },
  {
   "cell_type": "code",
   "execution_count": 4,
   "id": "8a124fcd",
   "metadata": {},
   "outputs": [
    {
     "data": {
      "text/plain": [
       "array([5, 0, 4, ..., 5, 6, 8], dtype=uint8)"
      ]
     },
     "execution_count": 4,
     "metadata": {},
     "output_type": "execute_result"
    }
   ],
   "source": [
    "y_train"
   ]
  },
  {
   "cell_type": "code",
   "execution_count": 4,
   "id": "a049d0e9",
   "metadata": {},
   "outputs": [],
   "source": [
    "X_train = X_train / 255\n",
    "X_test = X_test / 255\n",
    "# One-Hot Encode outputs \n",
    "y_train = keras.utils.to_categorical(y_train) \n",
    "y_test = keras.utils.to_categorical(y_test) \n",
    "num_classes = 10\n",
    "  \n",
    "# Training model \n"
   ]
  },
  {
   "cell_type": "code",
   "execution_count": 5,
   "id": "93ed2757",
   "metadata": {},
   "outputs": [
    {
     "name": "stdout",
     "output_type": "stream",
     "text": [
      "X_train.shape: (60000, 28, 28)\n",
      "y_train.shape: (60000, 10)\n",
      "X_test.shape: (10000, 28, 28)\n",
      "y_test.shape: (10000, 10)\n"
     ]
    }
   ],
   "source": [
    "print (\"X_train.shape: {}\".format(X_train.shape)) \n",
    "print (\"y_train.shape: {}\".format(y_train.shape)) \n",
    "print (\"X_test.shape: {}\".format(X_test.shape)) \n",
    "print (\"y_test.shape: {}\".format(y_test.shape)) "
   ]
  },
  {
   "cell_type": "code",
   "execution_count": 6,
   "id": "26bf196e",
   "metadata": {},
   "outputs": [
    {
     "data": {
      "text/plain": [
       "(28, 28)"
      ]
     },
     "execution_count": 6,
     "metadata": {},
     "output_type": "execute_result"
    }
   ],
   "source": [
    "X_train[0].shape"
   ]
  },
  {
   "cell_type": "code",
   "execution_count": 7,
   "id": "f856cee9",
   "metadata": {},
   "outputs": [],
   "source": [
    "X_train=np.expand_dims(X_train,axis=3)\n",
    "X_test=np.expand_dims(X_test,axis=3)"
   ]
  },
  {
   "cell_type": "code",
   "execution_count": 8,
   "id": "a97253a4",
   "metadata": {},
   "outputs": [
    {
     "data": {
      "text/plain": [
       "((60000, 28, 28, 1), (10000, 28, 28, 1))"
      ]
     },
     "execution_count": 8,
     "metadata": {},
     "output_type": "execute_result"
    }
   ],
   "source": [
    "X_train.shape,X_test.shape"
   ]
  },
  {
   "cell_type": "code",
   "execution_count": 9,
   "id": "860890af",
   "metadata": {},
   "outputs": [
    {
     "data": {
      "text/plain": [
       "'model=tf.keras.models.Sequential([\\n    tf.keras.layers.Conv2D(16,(3,3),input_shape=(28,28,1),activation=tf.nn.relu),\\n    tf.keras.layers.MaxPooling2D((2,2)),\\n    \\n    tf.keras.layers.Flatten(),\\n    tf.keras.layers.Dense(128,activation=tf.nn.relu),\\n    tf.keras.layers.Dense(64,activation=tf.nn.relu),\\n    tf.keras.layers.Dense(10,activation=tf.nn.softmax)\\n])'"
      ]
     },
     "execution_count": 9,
     "metadata": {},
     "output_type": "execute_result"
    }
   ],
   "source": [
    "'''model=tf.keras.models.Sequential([\n",
    "    tf.keras.layers.Conv2D(16,(3,3),input_shape=(28,28,1),activation=tf.nn.relu),\n",
    "    tf.keras.layers.MaxPooling2D((2,2)),\n",
    "    \n",
    "    tf.keras.layers.Flatten(),\n",
    "    tf.keras.layers.Dense(128,activation=tf.nn.relu),\n",
    "    tf.keras.layers.Dense(64,activation=tf.nn.relu),\n",
    "    tf.keras.layers.Dense(10,activation=tf.nn.softmax)\n",
    "])'''"
   ]
  },
  {
   "cell_type": "code",
   "execution_count": 10,
   "id": "c49dfc6b",
   "metadata": {},
   "outputs": [],
   "source": [
    "model=tf.keras.models.Sequential([\n",
    "    tf.keras.layers.Conv2D(16,(3,3),input_shape=(28,28,1),activation=tf.nn.relu),\n",
    "    tf.keras.layers.MaxPooling2D((2,2)),\n",
    "    tf.keras.layers.Conv2D(32,(3,3),activation=tf.nn.relu),\n",
    "    tf.keras.layers.MaxPool2D((2,2)),\n",
    "    tf.keras.layers.Flatten(),\n",
    "    tf.keras.layers.Dense(128,activation=tf.nn.relu),\n",
    "    tf.keras.layers.Dense(64,activation=tf.nn.relu),\n",
    "    tf.keras.layers.Dense(32,activation=tf.nn.relu),\n",
    "    tf.keras.layers.Dense(10,activation=tf.nn.softmax)\n",
    "])"
   ]
  },
  {
   "cell_type": "code",
   "execution_count": 11,
   "id": "055b2ec3",
   "metadata": {},
   "outputs": [
    {
     "name": "stdout",
     "output_type": "stream",
     "text": [
      "Model: \"sequential\"\n",
      "_________________________________________________________________\n",
      " Layer (type)                Output Shape              Param #   \n",
      "=================================================================\n",
      " conv2d (Conv2D)             (None, 26, 26, 16)        160       \n",
      "                                                                 \n",
      " max_pooling2d (MaxPooling2D  (None, 13, 13, 16)       0         \n",
      " )                                                               \n",
      "                                                                 \n",
      " conv2d_1 (Conv2D)           (None, 11, 11, 32)        4640      \n",
      "                                                                 \n",
      " max_pooling2d_1 (MaxPooling  (None, 5, 5, 32)         0         \n",
      " 2D)                                                             \n",
      "                                                                 \n",
      " flatten (Flatten)           (None, 800)               0         \n",
      "                                                                 \n",
      " dense (Dense)               (None, 128)               102528    \n",
      "                                                                 \n",
      " dense_1 (Dense)             (None, 64)                8256      \n",
      "                                                                 \n",
      " dense_2 (Dense)             (None, 32)                2080      \n",
      "                                                                 \n",
      " dense_3 (Dense)             (None, 10)                330       \n",
      "                                                                 \n",
      "=================================================================\n",
      "Total params: 117,994\n",
      "Trainable params: 117,994\n",
      "Non-trainable params: 0\n",
      "_________________________________________________________________\n"
     ]
    }
   ],
   "source": [
    "model.summary()\n"
   ]
  },
  {
   "cell_type": "code",
   "execution_count": 12,
   "id": "d8d100a6",
   "metadata": {},
   "outputs": [],
   "source": [
    "\n",
    "\n",
    "\n",
    "'''model.compile(optimizer=tf.keras.optimizers.Adam(),\n",
    "              loss=\"sparse_categorical_crossentropy\",\n",
    "              metrics=[tf.keras.metrics.Accuracy(\n",
    "              )])\n",
    "'''\n",
    "model.compile(optimizer=tf.keras.optimizers.Adam(),\n",
    "              loss=tf.keras.losses.categorical_crossentropy,\n",
    "              metrics=[tf.keras.metrics.Accuracy()]\n",
    "             )"
   ]
  },
  {
   "cell_type": "code",
   "execution_count": 25,
   "id": "75188995",
   "metadata": {},
   "outputs": [
    {
     "name": "stdout",
     "output_type": "stream",
     "text": [
      "Epoch 1/10\n",
      "1688/1688 [==============================] - 18s 10ms/step - loss: 0.1845 - accuracy: 1.4815e-05 - val_loss: 0.0623 - val_accuracy: 0.0000e+00\n",
      "Epoch 2/10\n",
      "1688/1688 [==============================] - 17s 10ms/step - loss: 0.0589 - accuracy: 8.8889e-05 - val_loss: 0.0544 - val_accuracy: 8.3333e-04\n",
      "Epoch 3/10\n",
      "1688/1688 [==============================] - 18s 11ms/step - loss: 0.0414 - accuracy: 6.8704e-04 - val_loss: 0.0417 - val_accuracy: 0.0040\n",
      "Epoch 4/10\n",
      "1688/1688 [==============================] - 17s 10ms/step - loss: 0.0316 - accuracy: 0.0035 - val_loss: 0.0404 - val_accuracy: 0.0026\n",
      "Epoch 5/10\n",
      "1688/1688 [==============================] - 16s 9ms/step - loss: 0.0248 - accuracy: 0.0062 - val_loss: 0.0425 - val_accuracy: 0.0034\n",
      "Epoch 6/10\n",
      "1688/1688 [==============================] - 19s 11ms/step - loss: 0.0199 - accuracy: 0.0122 - val_loss: 0.0381 - val_accuracy: 0.0055\n",
      "Epoch 7/10\n",
      "1688/1688 [==============================] - 19s 11ms/step - loss: 0.0159 - accuracy: 0.0176 - val_loss: 0.0386 - val_accuracy: 0.0195\n",
      "Epoch 8/10\n",
      "1688/1688 [==============================] - 23s 14ms/step - loss: 0.0153 - accuracy: 0.0212 - val_loss: 0.0350 - val_accuracy: 0.0286\n",
      "Epoch 9/10\n",
      "1688/1688 [==============================] - 31s 18ms/step - loss: 0.0119 - accuracy: 0.0319 - val_loss: 0.0605 - val_accuracy: 0.0229\n",
      "Epoch 10/10\n",
      "1688/1688 [==============================] - 22s 13ms/step - loss: 0.0110 - accuracy: 0.0352 - val_loss: 0.0533 - val_accuracy: 0.0284\n"
     ]
    }
   ],
   "source": [
    "history = model.fit(X_train, y_train,\n",
    "                    batch_size=32,\n",
    "                    epochs=10,\n",
    "                    validation_split=0.1)"
   ]
  },
  {
   "cell_type": "code",
   "execution_count": 17,
   "id": "ed3a3228",
   "metadata": {},
   "outputs": [],
   "source": [
    "\n",
    "class TargetAccuracyCallback(tf.keras.callbacks.Callback):\n",
    "    def __init__(self, target_accuracy=0.97):\n",
    "        super(TargetAccuracyCallback, self).__init__()\n",
    "        self.target_accuracy = target_accuracy\n",
    "\n",
    "    def on_epoch_end(self, epoch, logs=None):\n",
    "        if logs is None:\n",
    "            logs = {}\n",
    "        \n",
    "        if logs.get('accuracy') >= self.target_accuracy:\n",
    "            print(f\"Reached target accuracy of {self.target_accuracy}. Stopping training.\")\n",
    "            self.model.stop_training = True\n",
    "\n",
    "def train_model_to_accuracy(model, x_train, y_train, target_accuracy=0.999, max_epochs=100):\n",
    "    model.compile(optimizer='adam', loss='categorical_crossentropy', metrics=['accuracy'])\n",
    "    \n",
    "    callback = TargetAccuracyCallback(target_accuracy=target_accuracy)\n",
    "    \n",
    "    model.fit(x_train, y_train, epochs=max_epochs, callbacks=[callback])\n"
   ]
  },
  {
   "cell_type": "markdown",
   "id": "b7c2e411",
   "metadata": {},
   "source": [
    "## Training the model\n"
   ]
  },
  {
   "cell_type": "code",
   "execution_count": 18,
   "id": "37d5c161",
   "metadata": {},
   "outputs": [
    {
     "name": "stdout",
     "output_type": "stream",
     "text": [
      "Epoch 1/100\n",
      "1875/1875 [==============================] - 20s 10ms/step - loss: 0.0069 - accuracy: 0.9983\n",
      "Epoch 2/100\n",
      "1873/1875 [============================>.] - ETA: 0s - loss: 0.0018 - accuracy: 0.9995Reached target accuracy of 0.999. Stopping training.\n",
      "1875/1875 [==============================] - 18s 10ms/step - loss: 0.0018 - accuracy: 0.9995\n"
     ]
    }
   ],
   "source": [
    "train_model_to_accuracy(model,X_train,y_train)"
   ]
  },
  {
   "cell_type": "markdown",
   "id": "c886c444",
   "metadata": {},
   "source": [
    "## Testing\n"
   ]
  },
  {
   "cell_type": "code",
   "execution_count": 28,
   "id": "07feea1e",
   "metadata": {},
   "outputs": [],
   "source": [
    "model.save(\"digit_predictor.h5\")"
   ]
  },
  {
   "cell_type": "code",
   "execution_count": 24,
   "id": "048ba1a1",
   "metadata": {},
   "outputs": [],
   "source": [
    "log_dir = r\"D:\\UNIVERSITY_WORKS\\DL\\project\\logs\"\n",
    "tensorboard_callback = TensorBoard(log_dir=log_dir, histogram_freq=1)\n"
   ]
  },
  {
   "cell_type": "code",
   "execution_count": 26,
   "id": "71c98be5",
   "metadata": {},
   "outputs": [
    {
     "name": "stdout",
     "output_type": "stream",
     "text": [
      "Epoch 1/33\n",
      "1875/1875 [==============================] - 14s 7ms/step - loss: 0.0034 - accuracy: 0.9989\n",
      "Epoch 2/33\n",
      "1875/1875 [==============================] - 13s 7ms/step - loss: 0.0054 - accuracy: 0.9986\n",
      "Epoch 3/33\n",
      "1875/1875 [==============================] - 12s 7ms/step - loss: 0.0044 - accuracy: 0.9988\n",
      "Epoch 4/33\n",
      "1875/1875 [==============================] - 15s 8ms/step - loss: 0.0034 - accuracy: 0.9991\n",
      "Epoch 5/33\n",
      "1875/1875 [==============================] - 13s 7ms/step - loss: 0.0054 - accuracy: 0.9984\n",
      "Epoch 6/33\n",
      "1875/1875 [==============================] - 13s 7ms/step - loss: 0.0035 - accuracy: 0.9990\n",
      "Epoch 7/33\n",
      "1875/1875 [==============================] - 14s 7ms/step - loss: 0.0045 - accuracy: 0.9988\n",
      "Epoch 8/33\n",
      "1875/1875 [==============================] - 14s 7ms/step - loss: 0.0042 - accuracy: 0.9989\n",
      "Epoch 9/33\n",
      "1875/1875 [==============================] - 13s 7ms/step - loss: 0.0034 - accuracy: 0.9990\n",
      "Epoch 10/33\n",
      "1875/1875 [==============================] - 13s 7ms/step - loss: 0.0051 - accuracy: 0.9988\n",
      "Epoch 11/33\n",
      "1875/1875 [==============================] - 15s 8ms/step - loss: 0.0032 - accuracy: 0.9993\n",
      "Epoch 12/33\n",
      "1875/1875 [==============================] - 15s 8ms/step - loss: 0.0038 - accuracy: 0.9990\n",
      "Epoch 13/33\n",
      "1875/1875 [==============================] - 19s 10ms/step - loss: 0.0046 - accuracy: 0.9989\n",
      "Epoch 14/33\n",
      "1875/1875 [==============================] - 16s 9ms/step - loss: 0.0024 - accuracy: 0.9995\n",
      "Epoch 15/33\n",
      "1875/1875 [==============================] - 14s 8ms/step - loss: 0.0047 - accuracy: 0.9987\n",
      "Epoch 16/33\n",
      "1875/1875 [==============================] - 14s 7ms/step - loss: 0.0045 - accuracy: 0.9990\n",
      "Epoch 17/33\n",
      "1875/1875 [==============================] - 15s 8ms/step - loss: 9.4360e-04 - accuracy: 0.9997\n",
      "Epoch 18/33\n",
      "1875/1875 [==============================] - 14s 8ms/step - loss: 0.0029 - accuracy: 0.9992\n",
      "Epoch 19/33\n",
      "1875/1875 [==============================] - 14s 7ms/step - loss: 0.0044 - accuracy: 0.9988\n",
      "Epoch 20/33\n",
      "1875/1875 [==============================] - 15s 8ms/step - loss: 0.0017 - accuracy: 0.9995\n",
      "Epoch 21/33\n",
      "1875/1875 [==============================] - 15s 8ms/step - loss: 0.0041 - accuracy: 0.9991\n",
      "Epoch 22/33\n",
      "1875/1875 [==============================] - 15s 8ms/step - loss: 0.0021 - accuracy: 0.9993\n",
      "Epoch 23/33\n",
      "1875/1875 [==============================] - 15s 8ms/step - loss: 0.0013 - accuracy: 0.9997\n",
      "Epoch 24/33\n",
      "1875/1875 [==============================] - 15s 8ms/step - loss: 0.0055 - accuracy: 0.9987\n",
      "Epoch 25/33\n",
      "1875/1875 [==============================] - 15s 8ms/step - loss: 0.0024 - accuracy: 0.9993\n",
      "Epoch 26/33\n",
      "1875/1875 [==============================] - 15s 8ms/step - loss: 0.0032 - accuracy: 0.9994\n",
      "Epoch 27/33\n",
      "1875/1875 [==============================] - 15s 8ms/step - loss: 0.0029 - accuracy: 0.9993\n",
      "Epoch 28/33\n",
      "1875/1875 [==============================] - 15s 8ms/step - loss: 0.0045 - accuracy: 0.9991\n",
      "Epoch 29/33\n",
      "1875/1875 [==============================] - 15s 8ms/step - loss: 0.0018 - accuracy: 0.9996\n",
      "Epoch 30/33\n",
      "1875/1875 [==============================] - 16s 9ms/step - loss: 0.0048 - accuracy: 0.9990\n",
      "Epoch 31/33\n",
      "1875/1875 [==============================] - 15s 8ms/step - loss: 0.0043 - accuracy: 0.9990\n",
      "Epoch 32/33\n",
      "1875/1875 [==============================] - 17s 9ms/step - loss: 0.0022 - accuracy: 0.9994\n",
      "Epoch 33/33\n",
      "1875/1875 [==============================] - 17s 9ms/step - loss: 3.2577e-04 - accuracy: 0.9998\n"
     ]
    },
    {
     "data": {
      "text/plain": [
       "<keras.callbacks.History at 0x26cd2150700>"
      ]
     },
     "execution_count": 26,
     "metadata": {},
     "output_type": "execute_result"
    }
   ],
   "source": [
    "model.fit(X_train,y_train,epochs=33,callbacks=[tensorboard_callback])"
   ]
  },
  {
   "cell_type": "code",
   "execution_count": 77,
   "id": "4213c429",
   "metadata": {},
   "outputs": [
    {
     "name": "stdout",
     "output_type": "stream",
     "text": [
      "313/313 [==============================] - 1s 3ms/step\n"
     ]
    }
   ],
   "source": [
    "# pred=model.predict(X_train,batch_size=32)\n",
    "pred=model.predict(X_test)"
   ]
  },
  {
   "cell_type": "code",
   "execution_count": 61,
   "id": "c66202a1",
   "metadata": {},
   "outputs": [
    {
     "data": {
      "image/png": "[encoded data removed]",
      "text/plain": [
       "<PIL.Image.Image image mode=L size=28x28>"
      ]
     },
     "execution_count": 61,
     "metadata": {},
     "output_type": "execute_result"
    }
   ],
   "source": [
    "image.array_to_img(X_train[3])"
   ]
  },
  {
   "cell_type": "code",
   "execution_count": 62,
   "id": "92368cb3",
   "metadata": {},
   "outputs": [
    {
     "data": {
      "text/plain": [
       "0"
      ]
     },
     "execution_count": 62,
     "metadata": {},
     "output_type": "execute_result"
    }
   ],
   "source": [
    "np.argmax(pred[3])"
   ]
  },
  {
   "cell_type": "code",
   "execution_count": 55,
   "id": "1e8a7fb4",
   "metadata": {},
   "outputs": [],
   "source": [
    "val=np.argmax(pred[1])"
   ]
  },
  {
   "cell_type": "code",
   "execution_count": 56,
   "id": "c8503b60",
   "metadata": {},
   "outputs": [
    {
     "data": {
      "text/plain": [
       "0"
      ]
     },
     "execution_count": 56,
     "metadata": {},
     "output_type": "execute_result"
    }
   ],
   "source": [
    "val"
   ]
  },
  {
   "cell_type": "code",
   "execution_count": 27,
   "id": "bf62270f",
   "metadata": {},
   "outputs": [
    {
     "name": "stdout",
     "output_type": "stream",
     "text": [
      "313/313 [==============================] - 1s 2ms/step - loss: 0.0752 - accuracy: 0.9916\n"
     ]
    }
   ],
   "source": [
    "evaluation=model.evaluate(X_test,y_test)"
   ]
  },
  {
   "cell_type": "code",
   "execution_count": 32,
   "id": "9f26c2ec",
   "metadata": {},
   "outputs": [
    {
     "name": "stdout",
     "output_type": "stream",
     "text": [
      "accuracy:99.1599977016449%\n"
     ]
    }
   ],
   "source": [
    "print(f\"accuracy:{evaluation[1]*100}%\")"
   ]
  },
  {
   "cell_type": "code",
   "execution_count": 33,
   "id": "6acf0855",
   "metadata": {},
   "outputs": [],
   "source": [
    "model.save(\"digit_guesser.h5\")"
   ]
  },
  {
   "cell_type": "code",
   "execution_count": 48,
   "id": "fe87ea54",
   "metadata": {},
   "outputs": [],
   "source": [
    "def assign_predictions(pred):\n",
    "    \n",
    "    m,n=pred.shape\n",
    "    assign=[]\n",
    "    for i in range(m):\n",
    "        assign.append(np.argmax(pred[i]))\n",
    "    \n",
    "    return assign"
   ]
  },
  {
   "cell_type": "code",
   "execution_count": 54,
   "id": "0d37a893",
   "metadata": {},
   "outputs": [
    {
     "ename": "AttributeError",
     "evalue": "'list' object has no attribute 'shape'",
     "output_type": "error",
     "traceback": [
      "\u001b[1;31m---------------------------------------------------------------------------\u001b[0m",
      "\u001b[1;31mAttributeError\u001b[0m                            Traceback (most recent call last)",
      "Input \u001b[1;32mIn [54]\u001b[0m, in \u001b[0;36m<cell line: 1>\u001b[1;34m()\u001b[0m\n\u001b[1;32m----> 1\u001b[0m pred\u001b[38;5;241m=\u001b[39m\u001b[43massign_predictions\u001b[49m\u001b[43m(\u001b[49m\u001b[43mpred\u001b[49m\u001b[43m)\u001b[49m\n\u001b[0;32m      2\u001b[0m y_test\n",
      "Input \u001b[1;32mIn [48]\u001b[0m, in \u001b[0;36massign_predictions\u001b[1;34m(pred)\u001b[0m\n\u001b[0;32m      1\u001b[0m \u001b[38;5;28;01mdef\u001b[39;00m \u001b[38;5;21massign_predictions\u001b[39m(pred):\n\u001b[1;32m----> 3\u001b[0m     m,n\u001b[38;5;241m=\u001b[39m\u001b[43mpred\u001b[49m\u001b[38;5;241;43m.\u001b[39;49m\u001b[43mshape\u001b[49m\n\u001b[0;32m      4\u001b[0m     assign\u001b[38;5;241m=\u001b[39m[]\n\u001b[0;32m      5\u001b[0m     \u001b[38;5;28;01mfor\u001b[39;00m i \u001b[38;5;129;01min\u001b[39;00m \u001b[38;5;28mrange\u001b[39m(m):\n",
      "\u001b[1;31mAttributeError\u001b[0m: 'list' object has no attribute 'shape'"
     ]
    }
   ],
   "source": [
    "pred=assign_predictions(pred)\n",
    "y_test"
   ]
  },
  {
   "cell_type": "code",
   "execution_count": 51,
   "id": "04c353f7",
   "metadata": {},
   "outputs": [
    {
     "ename": "ValueError",
     "evalue": "Classification metrics can't handle a mix of multilabel-indicator and multiclass targets",
     "output_type": "error",
     "traceback": [
      "\u001b[1;31m---------------------------------------------------------------------------\u001b[0m",
      "\u001b[1;31mValueError\u001b[0m                                Traceback (most recent call last)",
      "Input \u001b[1;32mIn [51]\u001b[0m, in \u001b[0;36m<cell line: 2>\u001b[1;34m()\u001b[0m\n\u001b[0;32m      1\u001b[0m \u001b[38;5;28;01mfrom\u001b[39;00m \u001b[38;5;21;01msklearn\u001b[39;00m\u001b[38;5;21;01m.\u001b[39;00m\u001b[38;5;21;01mmetrics\u001b[39;00m \u001b[38;5;28;01mimport\u001b[39;00m accuracy_score\n\u001b[1;32m----> 2\u001b[0m \u001b[43maccuracy_score\u001b[49m\u001b[43m(\u001b[49m\u001b[43my_test\u001b[49m\u001b[43m,\u001b[49m\u001b[43mpred\u001b[49m\u001b[43m)\u001b[49m\n",
      "File \u001b[1;32m~\\.conda\\envs\\My_ML\\lib\\site-packages\\sklearn\\metrics\\_classification.py:211\u001b[0m, in \u001b[0;36maccuracy_score\u001b[1;34m(y_true, y_pred, normalize, sample_weight)\u001b[0m\n\u001b[0;32m    145\u001b[0m \u001b[38;5;250m\u001b[39m\u001b[38;5;124;03m\"\"\"Accuracy classification score.\u001b[39;00m\n\u001b[0;32m    146\u001b[0m \n\u001b[0;32m    147\u001b[0m \u001b[38;5;124;03mIn multilabel classification, this function computes subset accuracy:\u001b[39;00m\n\u001b[1;32m   (...)\u001b[0m\n\u001b[0;32m    207\u001b[0m \u001b[38;5;124;03m0.5\u001b[39;00m\n\u001b[0;32m    208\u001b[0m \u001b[38;5;124;03m\"\"\"\u001b[39;00m\n\u001b[0;32m    210\u001b[0m \u001b[38;5;66;03m# Compute accuracy for each possible representation\u001b[39;00m\n\u001b[1;32m--> 211\u001b[0m y_type, y_true, y_pred \u001b[38;5;241m=\u001b[39m \u001b[43m_check_targets\u001b[49m\u001b[43m(\u001b[49m\u001b[43my_true\u001b[49m\u001b[43m,\u001b[49m\u001b[43m \u001b[49m\u001b[43my_pred\u001b[49m\u001b[43m)\u001b[49m\n\u001b[0;32m    212\u001b[0m check_consistent_length(y_true, y_pred, sample_weight)\n\u001b[0;32m    213\u001b[0m \u001b[38;5;28;01mif\u001b[39;00m y_type\u001b[38;5;241m.\u001b[39mstartswith(\u001b[38;5;124m\"\u001b[39m\u001b[38;5;124mmultilabel\u001b[39m\u001b[38;5;124m\"\u001b[39m):\n",
      "File \u001b[1;32m~\\.conda\\envs\\My_ML\\lib\\site-packages\\sklearn\\metrics\\_classification.py:93\u001b[0m, in \u001b[0;36m_check_targets\u001b[1;34m(y_true, y_pred)\u001b[0m\n\u001b[0;32m     90\u001b[0m     y_type \u001b[38;5;241m=\u001b[39m {\u001b[38;5;124m\"\u001b[39m\u001b[38;5;124mmulticlass\u001b[39m\u001b[38;5;124m\"\u001b[39m}\n\u001b[0;32m     92\u001b[0m \u001b[38;5;28;01mif\u001b[39;00m \u001b[38;5;28mlen\u001b[39m(y_type) \u001b[38;5;241m>\u001b[39m \u001b[38;5;241m1\u001b[39m:\n\u001b[1;32m---> 93\u001b[0m     \u001b[38;5;28;01mraise\u001b[39;00m \u001b[38;5;167;01mValueError\u001b[39;00m(\n\u001b[0;32m     94\u001b[0m         \u001b[38;5;124m\"\u001b[39m\u001b[38;5;124mClassification metrics can\u001b[39m\u001b[38;5;124m'\u001b[39m\u001b[38;5;124mt handle a mix of \u001b[39m\u001b[38;5;132;01m{0}\u001b[39;00m\u001b[38;5;124m and \u001b[39m\u001b[38;5;132;01m{1}\u001b[39;00m\u001b[38;5;124m targets\u001b[39m\u001b[38;5;124m\"\u001b[39m\u001b[38;5;241m.\u001b[39mformat(\n\u001b[0;32m     95\u001b[0m             type_true, type_pred\n\u001b[0;32m     96\u001b[0m         )\n\u001b[0;32m     97\u001b[0m     )\n\u001b[0;32m     99\u001b[0m \u001b[38;5;66;03m# We can't have more than one value on y_type => The set is no more needed\u001b[39;00m\n\u001b[0;32m    100\u001b[0m y_type \u001b[38;5;241m=\u001b[39m y_type\u001b[38;5;241m.\u001b[39mpop()\n",
      "\u001b[1;31mValueError\u001b[0m: Classification metrics can't handle a mix of multilabel-indicator and multiclass targets"
     ]
    }
   ],
   "source": [
    "from sklearn.metrics import accuracy_score\n",
    "accuracy_score(y_test,pred)"
   ]
  },
  {
   "cell_type": "code",
   "execution_count": 19,
   "id": "185c8e23",
   "metadata": {},
   "outputs": [
    {
     "name": "stdout",
     "output_type": "stream",
     "text": [
      "1/1 [==============================] - 0s 157ms/step\n"
     ]
    },
    {
     "data": {
      "text/plain": [
       "array([[0.11442308, 0.10806304, 0.08526605, 0.08937362, 0.10688852,\n",
       "        0.07724726, 0.09526916, 0.13168308, 0.09820095, 0.0935853 ]],\n",
       "      dtype=float32)"
      ]
     },
     "execution_count": 19,
     "metadata": {},
     "output_type": "execute_result"
    }
   ],
   "source": [
    "model.predict(dig7)"
   ]
  },
  {
   "cell_type": "code",
   "execution_count": null,
   "id": "b1e21389",
   "metadata": {},
   "outputs": [],
   "source": []
  }
 ],
 "metadata": {
  "kernelspec": {
   "display_name": "ML",
   "language": "python",
   "name": "ml"
  },
  "language_info": {
   "codemirror_mode": {
    "name": "ipython",
    "version": 3
   },
   "file_extension": ".py",
   "mimetype": "text/x-python",
   "name": "python",
   "nbconvert_exporter": "python",
   "pygments_lexer": "ipython3",
   "version": "3.10.6"
  }
 },
 "nbformat": 4,
 "nbformat_minor": 5
}
